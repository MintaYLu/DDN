{
 "cells": [
  {
   "cell_type": "code",
   "execution_count": null,
   "id": "3b4148eb",
   "metadata": {},
   "outputs": [],
   "source": []
  },
  {
   "cell_type": "code",
   "execution_count": null,
   "id": "9f72b6e9",
   "metadata": {},
   "outputs": [],
   "source": [
    "def generateCommonNetwork(case_data, control_data, genename, lambda1=0.20, lambda2=0.1, threshold=1e-6):\n",
    "    # feature size (gene size)\n",
    "    p = control_data.shape[1]\n",
    "\n",
    "    # sample size\n",
    "    n1 = control_data.shape[0]\n",
    "    n2 = case_data.shape[0]\n",
    "\n",
    "    # start calculations\n",
    "    diffedges = {}\n",
    "    beta1_all = []\n",
    "    beta2_all = []\n",
    "    for gene in tqdm(range(p)):\n",
    "        # choose one gene as target\n",
    "        y = concatenateGeneData(control_data[:, gene], case_data[:, gene], method='row')\n",
    "\n",
    "        # choose other genes as feature\n",
    "        idx = [i for i in range(p) if i != gene]\n",
    "        X = concatenateGeneData(control_data[:, idx], case_data[:, idx], method='diag')\n",
    "\n",
    "        # perform bcd algorithm\n",
    "        beta = bcd(y, X, lambda1, lambda2, n1, n2, threshold)\n",
    "\n",
    "        # reindex the features\n",
    "        beta1 = list(beta[0 : gene]) + [0] + list(beta[gene : p - 1])\n",
    "        #beta1 = np.array(beta1)\n",
    "        beta1_all.append(beta1)\n",
    "        beta2 = list(beta[p - 1 : gene + p - 1]) + [0] + list(beta[gene + p - 1 : 2 * p - 2])\n",
    "        #beta2 = np.array(beta2)\n",
    "        beta2_all.append(beta2)\n",
    "            \n",
    "        # construct neighbours under two conditions\n",
    "        condition1 = [genename[i] for i in range(p) if beta1[i] != 0 and beta2[i] == 0]\n",
    "        condition2 = [genename[i] for i in range(p) if beta2[i] != 0 and beta1[i] == 0]\n",
    "        weight1 = [beta1[i] for i in range(p) if beta1[i] != 0 and beta2[i] == 0]\n",
    "        weight2 = [beta2[i] for i in range(p) if beta2[i] != 0 and beta1[i] == 0]\n",
    "        \n",
    "\n",
    "        \n",
    "\n",
    "        # update results\n",
    "        for neighbors, weights, condition in zip([condition1, condition2], [weight1, weight2], ['condition1', 'condition2']):\n",
    "            for neighbor, weight in zip(neighbors, weights):\n",
    "                tuple_diffedge = (min(genename[gene], neighbor), max(genename[gene], neighbor), condition)\n",
    "                diffedges.setdefault(tuple_diffedge, 0.0)\n",
    "                diffedges[tuple_diffedge] += weight\n",
    "\n",
    "    diffedges = sorted([k + tuple([v]) for k, v in diffedges.items()])\n",
    "\n",
    "    #return diffedges\n",
    "    return beta1_all,beta2_all"
   ]
  },
  {
   "cell_type": "code",
   "execution_count": null,
   "id": "7613a213",
   "metadata": {},
   "outputs": [],
   "source": [
    "beta1_all,beta2_all = generateBasicNetwork(case_standard, control_standard, genename)\n",
    "beta1_all = np.array(beta1_all)\n",
    "beta2_all = np.array(beta2_all)"
   ]
  },
  {
   "cell_type": "code",
   "execution_count": null,
   "id": "1293e7d3",
   "metadata": {},
   "outputs": [],
   "source": [
    "\n"
   ]
  },
  {
   "cell_type": "code",
   "execution_count": null,
   "id": "095c711f",
   "metadata": {},
   "outputs": [],
   "source": [
    "# original network 1\n",
    "H1 = nx.from_numpy_matrix(beta1_all)\n",
    "mapping={0:'A',1:'B',2:'C',3:'D',4:'E',5:'F'} \n",
    "H1 = nx.relabel_nodes(H1,mapping) \n",
    "Diff = nx.difference(H1, H2)\n",
    "pos = nx.circular_layout(Diff)\n",
    "nx.draw(H1, pos,with_labels = True,node_color=\"tab:orange\")\n",
    "plt.title('original network 1')\n",
    "plt.show()\n"
   ]
  },
  {
   "cell_type": "code",
   "execution_count": null,
   "id": "4d7b4ce2",
   "metadata": {},
   "outputs": [],
   "source": [
    "# original network 2\n",
    "H2 = nx.from_numpy_matrix(beta2_all)\n",
    "mapping={0:'A',1:'B',2:'C',3:'D',4:'E',5:'F'} \n",
    "H2 = nx.relabel_nodes(H2,mapping) \n",
    "pos = nx.circular_layout(H2)\n",
    "nx.draw(H2, pos,with_labels = True,node_color=\"tab:green\")\n",
    "plt.title('original network 2')\n",
    "plt.show()"
   ]
  },
  {
   "cell_type": "code",
   "execution_count": null,
   "id": "454a07b0",
   "metadata": {},
   "outputs": [],
   "source": [
    "# common parts between two network\n",
    "Common = nx.intersection(H1, H2)\n",
    "pos = nx.circular_layout(Diff)\n",
    "nx.draw(Common, pos,with_labels = True,node_color=\"tab:orange\")\n",
    "plt.title('common parts between two network')\n",
    "plt.show()\n"
   ]
  }
 ],
 "metadata": {
  "kernelspec": {
   "display_name": "Python 3 (ipykernel)",
   "language": "python",
   "name": "python3"
  },
  "language_info": {
   "codemirror_mode": {
    "name": "ipython",
    "version": 3
   },
   "file_extension": ".py",
   "mimetype": "text/x-python",
   "name": "python",
   "nbconvert_exporter": "python",
   "pygments_lexer": "ipython3",
   "version": "3.11.0"
  }
 },
 "nbformat": 4,
 "nbformat_minor": 5
}
